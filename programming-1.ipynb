{
  "cells": [
    {
      "cell_type": "markdown",
      "metadata": {
        "id": "kxKYr8nqyldV"
      },
      "source": [
        "## Programming I - Intro to Python\n"
      ]
    },
    {
      "cell_type": "markdown",
      "metadata": {
        "collapsed": true,
        "id": "oJlCKX_1yldg"
      },
      "source": [
        "This notebook includes a series of exercises to introduce you to the basics of programming in Python.  You'll learn, in general terms, about data types in Python, and how to make basic manipulations of these data types.  \n",
        "\n",
        "Python combines simplicity of syntax with relative computational power, which makes it an attractive language of choice for many programmers.  The classic introductory programming problem is how to get a language to return the phrase, \"Hello world.\"  In the Java language, for example, it looks something like this: \n",
        "\n",
        "```java\n",
        "public class HelloWorld {\n",
        "\n",
        "    public static void main(String[] args) {\n",
        "        System.out.println(\"Hello, World\");\n",
        "    }\n",
        "\n",
        "}\n",
        "```\n",
        "\n",
        "Compare that with Python: "
      ]
    },
    {
      "cell_type": "code",
      "execution_count": null,
      "metadata": {
        "id": "TRsF_y_Zyldi",
        "outputId": "6e6dc6d0-cb73-4c3e-997d-f326da3f0d69"
      },
      "outputs": [
        {
          "name": "stdout",
          "output_type": "stream",
          "text": [
            "Hello, World\n"
          ]
        }
      ],
      "source": [
        "print(\"Hello, World\")"
      ]
    },
    {
      "cell_type": "markdown",
      "metadata": {
        "id": "DOhk9nKFyldn"
      },
      "source": [
        "Much simpler!  Now, Python is not always going to be your language of choice for every application.  Python is an example of an _interpreted_ programming language, which means that it is converted on-the-fly to machine code - that is, code your computer can understand.  This can make development simpler, but generally executes slower than _compiled_ languages, in which the source code must be run through a compiler before it is executed.  This additional step, however, can speed up execution substantially, which is why compiled languages like Java, C, or C++ are sometimes preferred for software development.  \n",
        "\n",
        "However, Python is an outstanding choice for data analysis, which is highly interactive and requires the testing of many different ideas on-the-fly.  Indeed, the Python community has built a robust infrastructure for data analysis with the language, which includes the Jupyter Notebook, which we are working in right now.  \n",
        "\n",
        "The Jupyter Notebook is an example of _literate programming_, in which documentation and computer code are tightly integrated.  The notebook itself is comprised of \"cells\" that either accept Python code, or text written in __Markdown__, a highly-simplified syntax for writing HTML code.  To choose a Python or Markdown cell, simply change the option from the drop-down menu at the top of the screen.  To \"run\" the contents of your cell, click the \"run cell\" button from the menu at the top of the screen, or use the keyboard shortcut Shift+Enter.  \n",
        "\n",
        "Tools like the Jupyter Notebook are an excellent way to document your workflow, and make your work reproducible.  Over the course of a data analysis, it is often challenging to remember every small step you have taken, or the rationale behind those steps.  With the notebook, you can include descriptions of your workflow along with the actual code you used to do your data analysis.  "
      ]
    },
    {
      "cell_type": "markdown",
      "metadata": {
        "id": "RZSxpiQLyldn"
      },
      "source": [
        "## Python basics\n",
        "\n",
        "You already saw how to print text using Python using the `print` command.  Now, I'm going to take you through a few of Python's basic data structures.  At its most basic level, Python can function like a calculator.  For example, I can type in a simple calculation..."
      ]
    },
    {
      "cell_type": "code",
      "execution_count": null,
      "metadata": {
        "id": "fcfCxEllyldo",
        "outputId": "8c53acd8-e8b2-4147-cf29-2471b4d95564"
      },
      "outputs": [
        {
          "data": {
            "text/plain": [
              "4"
            ]
          },
          "execution_count": 4,
          "metadata": {},
          "output_type": "execute_result"
        }
      ],
      "source": [
        "2 + 2"
      ]
    },
    {
      "cell_type": "markdown",
      "metadata": {
        "id": "Cfvs3I7Lyldq"
      },
      "source": [
        "...and I get 4.  Try it out yourself!  "
      ]
    },
    {
      "cell_type": "code",
      "execution_count": null,
      "metadata": {
        "id": "PdiTrg3myldr",
        "outputId": "051e1c37-6fff-4c19-810f-1958ed6efc43"
      },
      "outputs": [
        {
          "data": {
            "text/plain": [
              "6"
            ]
          },
          "execution_count": 1,
          "metadata": {},
          "output_type": "execute_result"
        }
      ],
      "source": [
        "## Type in a calculation below and run it!\n",
        "3 + 3\n",
        "# By the way: this is an example of a comment.  Comments in Python are preceded by the hashtag (#) operator.  All text that follows\n",
        "# the hashtag will be bypassed at runtime - so this is a good way to make notes about your code, or to \"comment out\" code that you want \n",
        "# to keep, but don't want to run.  \n",
        "\n"
      ]
    },
    {
      "cell_type": "markdown",
      "metadata": {
        "id": "p5yV1RQzyldt"
      },
      "source": [
        "In addition, Python can work with _strings_, which are textual representations of data.  Strings are enclosed in single quotes `' '` or double quotes `\" \"`.  Like numbers, strings can be \"added\" together; however, instead of performing a numeric computation, Python will _concatenate_ the strings, combining them.  Take the following example: "
      ]
    },
    {
      "cell_type": "code",
      "execution_count": null,
      "metadata": {
        "id": "L8Ln1dSZyldu",
        "outputId": "802624a0-a75a-4555-9f25-03cd500385d0"
      },
      "outputs": [
        {
          "data": {
            "text/plain": [
              "'ab'"
            ]
          },
          "execution_count": 5,
          "metadata": {},
          "output_type": "execute_result"
        }
      ],
      "source": [
        "\"a\" + \"b\""
      ]
    },
    {
      "cell_type": "markdown",
      "metadata": {
        "id": "nxAhUcwlyldu"
      },
      "source": [
        "Now, let's see what happens when we try to combine a string and a number: "
      ]
    },
    {
      "cell_type": "code",
      "execution_count": null,
      "metadata": {
        "id": "Yt4W4bImyldu",
        "outputId": "c2b243b2-dc3d-4b9d-c5b2-3ff3a03a61ca"
      },
      "outputs": [
        {
          "ename": "TypeError",
          "evalue": "Can't convert 'int' object to str implicitly",
          "output_type": "error",
          "traceback": [
            "\u001b[1;31m---------------------------------------------------------------------------\u001b[0m",
            "\u001b[1;31mTypeError\u001b[0m                                 Traceback (most recent call last)",
            "\u001b[1;32m<ipython-input-6-ba28dc3539e9>\u001b[0m in \u001b[0;36m<module>\u001b[1;34m()\u001b[0m\n\u001b[1;32m----> 1\u001b[1;33m \u001b[1;34m\"a\"\u001b[0m \u001b[1;33m+\u001b[0m \u001b[1;36m4\u001b[0m\u001b[1;33m\u001b[0m\u001b[0m\n\u001b[0m",
            "\u001b[1;31mTypeError\u001b[0m: Can't convert 'int' object to str implicitly"
          ]
        }
      ],
      "source": [
        "\"a\" + 4"
      ]
    },
    {
      "cell_type": "markdown",
      "metadata": {
        "id": "2BUum57zyldz"
      },
      "source": [
        "We get an error message back - 'str' and 'int' objects cannot be concatenated, as they are different data types.  However, we can convert between different data types by **converting** our objects.  For example, the `str` command converts to a string, the `int` command converts to an integer, and the `float` command converts to a floating-point number, if possible.  Let's try it out: "
      ]
    },
    {
      "cell_type": "code",
      "execution_count": null,
      "metadata": {
        "id": "AJh10SkXyldz",
        "outputId": "06aed40b-257b-461b-9ed3-461172c2ef39"
      },
      "outputs": [
        {
          "data": {
            "text/plain": [
              "'a4'"
            ]
          },
          "execution_count": 7,
          "metadata": {},
          "output_type": "execute_result"
        }
      ],
      "source": [
        "\"a\" + str(4)"
      ]
    },
    {
      "cell_type": "markdown",
      "metadata": {
        "id": "3k7ABasnyld7"
      },
      "source": [
        "## Variables\n",
        "\n",
        "You now have a very basic sense of how Python works.  To this point, every cell that we've run has directly accepted content.  However, in  your work with Python, you are going to want to store information that you'll need to come back to later, or re-use certain objects in your code.  As such, you will want to work with __variables__.  \n",
        "\n",
        "Variables are Python objects that represent some other thing.  They can be just about any Python data type (more on these data types later) and are defined through __assignment__ with the equals (=) operator.  Let's give it a try: "
      ]
    },
    {
      "cell_type": "code",
      "execution_count": null,
      "metadata": {
        "id": "d4Ua5Q7Qyld7",
        "outputId": "909a39fa-5e8c-48bf-a7b6-7e3f729cf93d"
      },
      "outputs": [
        {
          "name": "stdout",
          "output_type": "stream",
          "text": [
            "4\n"
          ]
        }
      ],
      "source": [
        "x = 4\n",
        "\n",
        "print(x)"
      ]
    },
    {
      "cell_type": "markdown",
      "metadata": {
        "id": "q35P_VC-yld7"
      },
      "source": [
        "In the above cell, I __assigned__ the integer 4 to the variable x.  When I asked Python to print the variable x, it returns the integer 4, which is what is represented by x.  \n",
        "\n",
        "If you've programmed in other languages before, you probably noticed that I didn't have to declare the type of my variable when creating it.  Python is an example of a __dynamically typed__ language, which means that the types of objects are mutable (can change) and do not need to be declared.  Instead, Python detects the type of the object based on the assignment I made.  Let's check it out with the `type` command.  "
      ]
    },
    {
      "cell_type": "code",
      "execution_count": null,
      "metadata": {
        "id": "XGD6M1XCyld7",
        "outputId": "b673970b-f114-4adb-f4f7-fb8ac9754d73"
      },
      "outputs": [
        {
          "data": {
            "text/plain": [
              "int"
            ]
          },
          "execution_count": 18,
          "metadata": {},
          "output_type": "execute_result"
        }
      ],
      "source": [
        "type(x)"
      ]
    },
    {
      "cell_type": "markdown",
      "metadata": {
        "id": "6pKlhROzyld8"
      },
      "source": [
        "Python knows that x is an `int` (integer) as I assigned an integer, 4, to x.  Other languages, like Java, are known as __statically typed__ programming languages, as object types need to be declared.  For example, assignment in a statically typed language might look like this: \n",
        "\n",
        "```java\n",
        "int x = 4;\n",
        "```\n",
        "\n",
        "In my opinion, the dynamic typing of Python makes it well-suited for the exploratory nature of data analysis.  \n",
        "\n",
        "As my variable __x__ is an integer, I can perform mathematical operations with it.  For example, I can multiply it by two with the \\* operator, or raise it to the second power with the \\** operator: "
      ]
    },
    {
      "cell_type": "code",
      "execution_count": null,
      "metadata": {
        "id": "EHP0UGyHyld8",
        "outputId": "d368bd18-9c66-4546-aced-b8b5899a661f"
      },
      "outputs": [
        {
          "data": {
            "text/plain": [
              "8"
            ]
          },
          "execution_count": 19,
          "metadata": {},
          "output_type": "execute_result"
        }
      ],
      "source": [
        "x * 2"
      ]
    },
    {
      "cell_type": "code",
      "execution_count": null,
      "metadata": {
        "id": "pZAhd7Utyld9",
        "outputId": "3a1bf7f7-6a24-435a-ab6d-ba957e5e1a0d"
      },
      "outputs": [
        {
          "data": {
            "text/plain": [
              "16"
            ]
          },
          "execution_count": 20,
          "metadata": {},
          "output_type": "execute_result"
        }
      ],
      "source": [
        "x ** 2"
      ]
    },
    {
      "cell_type": "code",
      "execution_count": null,
      "metadata": {
        "id": "UJa-2nKVyld9"
      },
      "outputs": [],
      "source": [
        "# Now you try!  Write an expression that adds 5 to x, then divides the result by 2.  What do you get?  \n",
        "\n"
      ]
    },
    {
      "cell_type": "markdown",
      "metadata": {
        "id": "p2gFpoxPyld9"
      },
      "source": [
        "Variable types can also be converted to other types through __conversion__, like I showed your earlier.  Conversion operators in Python include `int` (integer), `long` (long integer), `float` (floating-point number), and `str` (string/text).  \n",
        "\n",
        "Let's give it a try.  In the space below, we'll create a new variable __y__ by converting your variable __x__ to a string.  Then, we'll type __y__ and run the code to see what we get.  "
      ]
    },
    {
      "cell_type": "code",
      "execution_count": null,
      "metadata": {
        "id": "HGOmh9u_yld-",
        "outputId": "adbefb72-814e-45e5-a229-c86e49eb1828"
      },
      "outputs": [
        {
          "data": {
            "text/plain": [
              "'4'"
            ]
          },
          "execution_count": 22,
          "metadata": {},
          "output_type": "execute_result"
        }
      ],
      "source": [
        "y = str(x)\n",
        "\n",
        "y"
      ]
    },
    {
      "cell_type": "markdown",
      "metadata": {
        "id": "Ggl6Cuvuyld-"
      },
      "source": [
        "We see a '4' returned in quotations -- this means that your variable y stores the value 4, but in string rather than number format. As such, we cannot do math with our new variable... "
      ]
    },
    {
      "cell_type": "code",
      "execution_count": null,
      "metadata": {
        "id": "Ue128kk4yld-",
        "outputId": "c17be958-5173-4626-bedf-b7e082891ba6"
      },
      "outputs": [
        {
          "ename": "TypeError",
          "evalue": "Can't convert 'int' object to str implicitly",
          "output_type": "error",
          "traceback": [
            "\u001b[1;31m---------------------------------------------------------------------------\u001b[0m",
            "\u001b[1;31mTypeError\u001b[0m                                 Traceback (most recent call last)",
            "\u001b[1;32m<ipython-input-23-ab089b7b40b6>\u001b[0m in \u001b[0;36m<module>\u001b[1;34m()\u001b[0m\n\u001b[1;32m----> 1\u001b[1;33m \u001b[0my\u001b[0m \u001b[1;33m+\u001b[0m \u001b[1;36m12\u001b[0m\u001b[1;33m\u001b[0m\u001b[0m\n\u001b[0m",
            "\u001b[1;31mTypeError\u001b[0m: Can't convert 'int' object to str implicitly"
          ]
        }
      ],
      "source": [
        "y + 12"
      ]
    },
    {
      "cell_type": "code",
      "execution_count": null,
      "metadata": {
        "id": "eJhoUDulyld-",
        "outputId": "312a1663-47cb-4b67-db52-832a21401b04"
      },
      "outputs": [
        {
          "name": "stdout",
          "output_type": "stream",
          "text": [
            "OMG I heart U 4ever!!!111\n"
          ]
        }
      ],
      "source": [
        "print(\"OMG I heart U \" + y + \"ever!!!111\")"
      ]
    },
    {
      "cell_type": "markdown",
      "metadata": {
        "id": "iCxFLrLcyld_"
      },
      "source": [
        "Now, try it out yourself!  Create a new variable, __z__, by converting __y__ to a floating-point number, and then divide __z__ by 3.  What do you get?  "
      ]
    },
    {
      "cell_type": "code",
      "execution_count": null,
      "metadata": {
        "collapsed": true,
        "id": "2Wpn_qElyleA"
      },
      "outputs": [],
      "source": [
        "### Run your code here!"
      ]
    },
    {
      "cell_type": "markdown",
      "metadata": {
        "id": "uaOmoDfsyleA"
      },
      "source": [
        "## Lists\n",
        "\n",
        "You should have a sense to this point of the flexibility of variable assignment in Python.  However, to this point we've only been working with variables that store one value - and you'll be working a lot with multiple values in Python.  \n",
        "\n",
        "The most common data structure for multiple values in Python is the __list__.  Lists are enclosed in brackets [], and can contain a series of values, objects, variables, etc.  Objects in a list need not be of the same type; however, keeping the types within lists consistent will maximize what you can do with them.  \n",
        "\n",
        "Let's take a look at a sample list of numbers, and assign it to the variable __mylist__.  "
      ]
    },
    {
      "cell_type": "code",
      "execution_count": null,
      "metadata": {
        "id": "mieoEJzcyleA",
        "outputId": "a70049d2-2266-4467-8216-3070cce39ea5"
      },
      "outputs": [
        {
          "name": "stdout",
          "output_type": "stream",
          "text": [
            "[2, 4, 6, 8, 10, 12]\n"
          ]
        }
      ],
      "source": [
        "mylist = [2, 4, 6, 8, 10, 12]\n",
        "\n",
        "print(mylist)"
      ]
    },
    {
      "cell_type": "markdown",
      "metadata": {
        "id": "BbGyfCF1yleB"
      },
      "source": [
        "To retrieve specific elements within my list, I can use __indexing__.  Indexing is a common operation in Python to subset your data - this will be very important for you when working with datasets later on.  Indices are similarly enclosed in brackets.  In Python, the index starts at zero; as such, 0 returns the first element, 1 the second element, and so on.  Let's try it: "
      ]
    },
    {
      "cell_type": "code",
      "execution_count": null,
      "metadata": {
        "id": "Qb0ZyF2iyleB",
        "outputId": "a2db840d-d839-45c5-9ffb-b1e2459217c7"
      },
      "outputs": [
        {
          "data": {
            "text/plain": [
              "4"
            ]
          },
          "execution_count": 27,
          "metadata": {},
          "output_type": "execute_result"
        }
      ],
      "source": [
        "## This should give me the second element of my list, 4. \n",
        "\n",
        "mylist[1]"
      ]
    },
    {
      "cell_type": "markdown",
      "metadata": {
        "id": "UZqcg4TayleB"
      },
      "source": [
        "Chunks of your list can also be retrieved through __slicing__.  To slice a list, index with the first element you want, followed by a colon : operator, then the index of the first element you __do not want__.  For example, let's retrieve the second through fourth elements of `mylist`, which should give us back 4, 6, and 8.  "
      ]
    },
    {
      "cell_type": "code",
      "execution_count": null,
      "metadata": {
        "id": "f4wMvfIKyleB",
        "outputId": "a79555bb-aa41-4f2e-a60b-ffb55806b233"
      },
      "outputs": [
        {
          "data": {
            "text/plain": [
              "[4, 6, 8]"
            ]
          },
          "execution_count": 28,
          "metadata": {},
          "output_type": "execute_result"
        }
      ],
      "source": [
        "mylist[1:4]"
      ]
    },
    {
      "cell_type": "markdown",
      "metadata": {
        "id": "6jAYkktvyleC"
      },
      "source": [
        "You can also add other lists to your lists.  Let's try it:  "
      ]
    },
    {
      "cell_type": "code",
      "execution_count": null,
      "metadata": {
        "id": "1_jqElV6yleC",
        "outputId": "32a80b5b-1f06-40b7-f39c-971170858db5"
      },
      "outputs": [
        {
          "data": {
            "text/plain": [
              "[2, 4, 6, 8, 10, 12, 14, 16]"
            ]
          },
          "execution_count": 29,
          "metadata": {},
          "output_type": "execute_result"
        }
      ],
      "source": [
        "mylist + [14, 16]"
      ]
    },
    {
      "cell_type": "markdown",
      "metadata": {
        "id": "Jq36l_CcyleC"
      },
      "source": [
        "This can also be achieved with the `append` command, which will modify the existing list.  "
      ]
    },
    {
      "cell_type": "code",
      "execution_count": null,
      "metadata": {
        "id": "iYIyO24myleD",
        "outputId": "e7a973fc-0d36-4094-dfea-ecf1f0b6d209"
      },
      "outputs": [
        {
          "data": {
            "text/plain": [
              "['a, b, c, d, e', 18]"
            ]
          },
          "execution_count": 13,
          "metadata": {},
          "output_type": "execute_result"
        }
      ],
      "source": [
        "mylist.append(18)\n",
        "\n",
        "mylist"
      ]
    },
    {
      "cell_type": "markdown",
      "metadata": {
        "id": "tPoOQKbTyleD"
      },
      "source": [
        "Notice that the `append` command shows up as a property of your list - that is, a method you can use to modify it.  In the Jupyter Notebook, you can get a list of possible methods for your list by pressing Tab after typing a period after your list's name.  Try it out:  "
      ]
    },
    {
      "cell_type": "code",
      "execution_count": null,
      "metadata": {
        "collapsed": true,
        "id": "ARSfuRUIyleE"
      },
      "outputs": [],
      "source": [
        "# Press \"Tab\" after the period to see what I'm talking about!  \n",
        "# Be sure that you've run the above cell defining mylist beforehand.\n",
        "\n",
        "mylist."
      ]
    },
    {
      "cell_type": "markdown",
      "metadata": {
        "id": "Ta17j2opyleF"
      },
      "source": [
        "Notice a series of methods available to you to manipulate the contents of your list.  You can read more about the different list methods [here](https://docs.python.org/3.4/tutorial/datastructures.html).  \n",
        "\n",
        "Let's try a couple: "
      ]
    },
    {
      "cell_type": "code",
      "execution_count": null,
      "metadata": {
        "id": "fTGQhtsvyleG",
        "outputId": "15d6fba4-e96e-4144-ccdd-5e20f057967d"
      },
      "outputs": [
        {
          "data": {
            "text/plain": [
              "[18, 12, 10, 8, 6, 4, 2]"
            ]
          },
          "execution_count": 31,
          "metadata": {},
          "output_type": "execute_result"
        }
      ],
      "source": [
        "mylist.reverse()\n",
        "\n",
        "mylist"
      ]
    },
    {
      "cell_type": "code",
      "execution_count": null,
      "metadata": {
        "id": "lVCRoPtsyleG",
        "outputId": "41e5e55a-fe2a-4aa2-a612-c3014965e129"
      },
      "outputs": [
        {
          "data": {
            "text/plain": [
              "[18, 12, 10, 8, 6, 4, 2, 22, 44]"
            ]
          },
          "execution_count": 32,
          "metadata": {},
          "output_type": "execute_result"
        }
      ],
      "source": [
        "mylist.extend([22, 44])\n",
        "\n",
        "mylist"
      ]
    },
    {
      "cell_type": "code",
      "execution_count": null,
      "metadata": {
        "id": "wxz8eyGiyleG",
        "outputId": "611087e7-6cb2-4668-a29c-39af2ea0937b"
      },
      "outputs": [
        {
          "data": {
            "text/plain": [
              "[18, 12, 10, 8, 6, 99, 4, 2, 22, 44]"
            ]
          },
          "execution_count": 33,
          "metadata": {},
          "output_type": "execute_result"
        }
      ],
      "source": [
        "mylist.insert(5, 99) # The insert command here will place, at index 5, the number 99\n",
        "\n",
        "mylist"
      ]
    },
    {
      "cell_type": "markdown",
      "metadata": {
        "id": "q4tT1AaTyleG"
      },
      "source": [
        "Now, try working with a list of your own!  Do the following: \n",
        "\n",
        "1. Create a list of four numbers - one through four - and assign it to a variable.  \n",
        "2. Index the list to return only 3 and 4\n",
        "3. Add a second list of 5, 6, and 7 to your list\n",
        "4. Insert the number 12 at position 3 of your list"
      ]
    },
    {
      "cell_type": "code",
      "execution_count": null,
      "metadata": {
        "collapsed": true,
        "id": "He38ZBtAyleH"
      },
      "outputs": [],
      "source": [
        "## Run your code here!\n"
      ]
    },
    {
      "cell_type": "markdown",
      "metadata": {
        "id": "bBoV6NKfyleH"
      },
      "source": [
        "## Strings\n",
        "\n",
        "Strings, or textual representations of data, have a series of special methods that allow for their manipulation.  In the Jupyter Notebook, these methods are available by pressing the Tab key after typing a period after the variable that stores the string.  Let's test it out. "
      ]
    },
    {
      "cell_type": "code",
      "execution_count": null,
      "metadata": {
        "collapsed": true,
        "id": "Oc4pry30yleH"
      },
      "outputs": [],
      "source": [
        "tcu = \"Texas Christian University\""
      ]
    },
    {
      "cell_type": "code",
      "execution_count": null,
      "metadata": {
        "collapsed": true,
        "id": "AbghMaIKyleH"
      },
      "outputs": [],
      "source": [
        "# Place your cursor after the period, and press the tab key to view the methods\n",
        "# Be sure that you've run the previous cell first!\n",
        "\n",
        "tcu."
      ]
    },
    {
      "cell_type": "markdown",
      "metadata": {
        "id": "BZSewfrwyleI"
      },
      "source": [
        "Notice all the different methods available to you; [you can view them in detail here](https://docs.python.org/3/library/stdtypes.html#string-methods).  In the IPython notebook, you can also see the parameters of the different methods by typing Shift + Tab after typing the first parenthesis.  Let's try a few.  "
      ]
    },
    {
      "cell_type": "code",
      "execution_count": null,
      "metadata": {
        "id": "hh-v2yUQyleI",
        "outputId": "52e8ab54-29ea-4779-c167-b74fc1d99d55"
      },
      "outputs": [
        {
          "data": {
            "text/plain": [
              "'tEXAS cHRISTIAN uNIVERSITY'"
            ]
          },
          "execution_count": 36,
          "metadata": {},
          "output_type": "execute_result"
        }
      ],
      "source": [
        "tcu1 = tcu.swapcase()\n",
        "\n",
        "tcu1"
      ]
    },
    {
      "cell_type": "code",
      "execution_count": null,
      "metadata": {
        "id": "RW313KOgyleI",
        "outputId": "18ba2b53-dccd-4363-fa5e-a567b4c5c414"
      },
      "outputs": [
        {
          "data": {
            "text/plain": [
              "'Texas Construction University'"
            ]
          },
          "execution_count": 37,
          "metadata": {},
          "output_type": "execute_result"
        }
      ],
      "source": [
        "tcu2 = tcu.replace('Christian', 'Construction')\n",
        "\n",
        "tcu2"
      ]
    },
    {
      "cell_type": "code",
      "execution_count": null,
      "metadata": {
        "id": "Mr-Tc-WiyleJ",
        "outputId": "3482d6ba-c632-4e66-ef79-f2957fc0526e"
      },
      "outputs": [
        {
          "data": {
            "text/plain": [
              "'TEXAS CHRISTIAN UNIVERSITY'"
            ]
          },
          "execution_count": 38,
          "metadata": {},
          "output_type": "execute_result"
        }
      ],
      "source": [
        "tcu3 = tcu.upper()\n",
        "\n",
        "tcu3"
      ]
    },
    {
      "cell_type": "code",
      "execution_count": null,
      "metadata": {
        "id": "TQNbnKN5yleK",
        "outputId": "115e00ab-c0b8-4a1b-ba48-57d5e9d6cb09"
      },
      "outputs": [
        {
          "data": {
            "text/plain": [
              "'Christian'"
            ]
          },
          "execution_count": 39,
          "metadata": {},
          "output_type": "execute_result"
        }
      ],
      "source": [
        "## Here, we are retrieving the second word of the string (indexed at 1) with the 'split' command.  \n",
        "\n",
        "tcu4 = tcu.split()[1]\n",
        "\n",
        "tcu4"
      ]
    },
    {
      "cell_type": "markdown",
      "metadata": {
        "id": "whirvdWpyleK"
      },
      "source": [
        "Like lists, strings can also be indexed or sliced; in this instance, the index refers to the different characters in the string.  "
      ]
    },
    {
      "cell_type": "code",
      "execution_count": null,
      "metadata": {
        "id": "Bj-xAIVhyleL",
        "outputId": "f08091d4-2429-461b-dbe0-5ff8ba7719d8"
      },
      "outputs": [
        {
          "data": {
            "text/plain": [
              "'Texas'"
            ]
          },
          "execution_count": 40,
          "metadata": {},
          "output_type": "execute_result"
        }
      ],
      "source": [
        "tcu[0:5]"
      ]
    },
    {
      "cell_type": "markdown",
      "metadata": {
        "id": "na_oTLt5yleL"
      },
      "source": [
        "## Exercises\n",
        "\n",
        "__Exercise 1__: Create a new cell below with the \"Insert Cell Below\" option.  Change the cell type to __Markdown__ from the drop-down menu at the top of the screen.  Practice writing some Markdown in the cell.  The cell should include a numbered list of links to your five favorite websites, with an H2 header for the title.  The links should not simply be the website URLs, but should instead show the name of the website, which you can click to get to the website.  Also, make the name of the first entry in bold, and the name of the second entry in italics.\n",
        "\n",
        "For Markdown tips, take a look at [the Markdown cheatsheet at this link](https://github.com/adam-p/markdown-here/wiki/Markdown-Cheatsheet).  _Also, a tip_: you can view how I wrote Markdown in any of the cells in this notebook by double-clicking the cells!"
      ]
    },
    {
      "cell_type": "markdown",
      "metadata": {
        "id": "R_c58cwFyleM"
      },
      "source": [
        "## My favorite websites\n",
        "\n",
        "1. __[ESPN](http://ESPN.com)__\n",
        "2. _[Facebook](http://Facebook.com)_\n",
        "3. [Amazon](http://Amazon.com)\n",
        "4. [Pandora](http://Pandora.com)\n",
        "5. [CNN](http://CNN.com) "
      ]
    },
    {
      "cell_type": "markdown",
      "metadata": {
        "id": "YbKZokG8yleM"
      },
      "source": [
        "__Exercise 2__: Assign the number 31 to a new variable, `q`.  Write an expression that raises q to the 4th power and run the cell.  "
      ]
    },
    {
      "cell_type": "code",
      "execution_count": 7,
      "metadata": {
        "id": "cq9anRe3yleM"
      },
      "outputs": [],
      "source": [
        "q = 31"
      ]
    },
    {
      "cell_type": "code",
      "execution_count": 8,
      "metadata": {
        "id": "wd0Camm-yleM",
        "outputId": "58e1f256-7434-4d83-eee3-7fc482298825",
        "colab": {
          "base_uri": "https://localhost:8080/"
        }
      },
      "outputs": [
        {
          "output_type": "execute_result",
          "data": {
            "text/plain": [
              "923521"
            ]
          },
          "metadata": {},
          "execution_count": 8
        }
      ],
      "source": [
        "q**4"
      ]
    },
    {
      "cell_type": "markdown",
      "metadata": {
        "id": "iQ702t8FyleN"
      },
      "source": [
        "__Exercise 3__: Create a new variable, `smu`, and assign the lowercase string 'southern methodist university' to it.  Use Python string methods to capitalize your string appropriately.  Add a comment in your code that explains what you did.  "
      ]
    },
    {
      "cell_type": "code",
      "execution_count": 9,
      "metadata": {
        "id": "cS86q2jTyleN"
      },
      "outputs": [],
      "source": [
        "smu = \"southern methodist university\""
      ]
    },
    {
      "cell_type": "code",
      "execution_count": 10,
      "metadata": {
        "id": "EHTgbDFwyleN",
        "outputId": "cf9c3296-bc9c-4897-838a-f67a573a74be",
        "colab": {
          "base_uri": "https://localhost:8080/",
          "height": 35
        }
      },
      "outputs": [
        {
          "output_type": "execute_result",
          "data": {
            "application/vnd.google.colaboratory.intrinsic+json": {
              "type": "string"
            },
            "text/plain": [
              "'Southern Methodist University'"
            ]
          },
          "metadata": {},
          "execution_count": 10
        }
      ],
      "source": [
        "smu.title()"
      ]
    },
    {
      "cell_type": "code",
      "execution_count": 11,
      "metadata": {
        "collapsed": true,
        "id": "uGAtj-mwyleN",
        "outputId": "ea005c65-735c-488d-a572-e56aaa8a5a80",
        "colab": {
          "base_uri": "https://localhost:8080/",
          "height": 131
        }
      },
      "outputs": [
        {
          "output_type": "error",
          "ename": "SyntaxError",
          "evalue": "ignored",
          "traceback": [
            "\u001b[0;36m  File \u001b[0;32m\"<ipython-input-11-e6fb6c4c28c8>\"\u001b[0;36m, line \u001b[0;32m1\u001b[0m\n\u001b[0;31m    I used the tab key to change my variable, smu, to title case.\u001b[0m\n\u001b[0m         ^\u001b[0m\n\u001b[0;31mSyntaxError\u001b[0m\u001b[0;31m:\u001b[0m invalid syntax\n"
          ]
        }
      ],
      "source": [
        "I used the tab key to change my variable, smu, to title case. "
      ]
    },
    {
      "cell_type": "markdown",
      "metadata": {
        "id": "-KT3gjbvyleO"
      },
      "source": [
        "__Exercise 4__: Assign the list `['a', 'b', 'c', 'd', 'e']` to a variable.  Reverse the list, then insert 'z' at index 3, and finally append 'o' to the end."
      ]
    },
    {
      "cell_type": "code",
      "execution_count": null,
      "metadata": {
        "id": "H40VpHCkyleP"
      },
      "outputs": [],
      "source": [
        "mylist = [\"a\",\"b\",\"c\", \"d\", \"e\"]\n"
      ]
    },
    {
      "cell_type": "code",
      "execution_count": null,
      "metadata": {
        "id": "_jIzYVuUyleR"
      },
      "outputs": [],
      "source": [
        "mylist"
      ]
    },
    {
      "cell_type": "code",
      "execution_count": null,
      "metadata": {
        "id": "bDMaEqobyleR"
      },
      "outputs": [],
      "source": [
        "mylist.reverse()\n",
        "mylist"
      ]
    },
    {
      "cell_type": "code",
      "execution_count": null,
      "metadata": {
        "id": "ezpURndKyleR"
      },
      "outputs": [],
      "source": [
        "mylist.insert(3, \"z\")\n",
        "mylist"
      ]
    },
    {
      "cell_type": "code",
      "execution_count": null,
      "metadata": {
        "id": "UOGsMAYcyleR"
      },
      "outputs": [],
      "source": [
        "mylist.append(18)\n",
        "mylist"
      ]
    },
    {
      "cell_type": "markdown",
      "metadata": {
        "id": "aLrAur2KyleS"
      },
      "source": [
        "__Exercise 5__: (Modified from your textbook): A string slice can use an optional third index to specify the 'step size', which refers to the number of spaces between characters.  Your textbook gives the following example: "
      ]
    },
    {
      "cell_type": "code",
      "execution_count": null,
      "metadata": {
        "id": "hxamiIISyleS"
      },
      "outputs": [],
      "source": [
        "fruit = 'banana'\n",
        "\n",
        "fruit[0:5:2]"
      ]
    },
    {
      "cell_type": "markdown",
      "metadata": {
        "id": "1xQUNEgjyleS"
      },
      "source": [
        "The same result could be achieved, however, by omitting the 5, as the above example uses the whole string: "
      ]
    },
    {
      "cell_type": "code",
      "execution_count": null,
      "metadata": {
        "id": "4MKLY2RAyleS"
      },
      "outputs": [],
      "source": [
        "fruit[0::2]"
      ]
    },
    {
      "cell_type": "markdown",
      "metadata": {
        "id": "3Kg6YDUoyleS"
      },
      "source": [
        "In the cell below, I will provide you with a string of characters that may appear quite random at first.  Run the cell to assign the string to the variable `code`.  However, the string is in reality an encoded message, in which the character to keep is at __every fourth character__.\n",
        "\n",
        "Use Python string slicing to decode the message, and print the result to your notebook.  The result is a familar expression, so if you are not getting a result that makes sense, try again! \n",
        "\n",
        "__Hint__: remember rules about Python indexing, which starts at 0, not 1!"
      ]
    },
    {
      "cell_type": "code",
      "execution_count": null,
      "metadata": {
        "id": "UOX8wRX3yleS"
      },
      "outputs": [],
      "source": [
        "code = 'varCjjlopaxntrrgnbXrOPraiiItUuUuzaQlliyaxx*t#rgiffFoce&ntPls87C!'"
      ]
    },
    {
      "cell_type": "code",
      "execution_count": null,
      "metadata": {
        "id": "7zn5Jj1jyleS"
      },
      "outputs": [],
      "source": [
        "code[3::4]"
      ]
    },
    {
      "cell_type": "code",
      "execution_count": null,
      "metadata": {
        "id": "xYZq0FJXyleT"
      },
      "outputs": [],
      "source": [
        "code"
      ]
    },
    {
      "cell_type": "code",
      "execution_count": null,
      "metadata": {
        "id": "nOpCRRfVyleT"
      },
      "outputs": [],
      "source": [
        "code[3::4]"
      ]
    },
    {
      "cell_type": "code",
      "execution_count": null,
      "metadata": {
        "collapsed": true,
        "id": "bef4zNWpyleT"
      },
      "outputs": [],
      "source": [
        ""
      ]
    }
  ],
  "metadata": {
    "kernelspec": {
      "display_name": "Anaconda (Python 3)",
      "language": "python",
      "name": "anaconda3"
    },
    "language_info": {
      "codemirror_mode": {
        "name": "ipython",
        "version": 3
      },
      "file_extension": ".py",
      "mimetype": "text/x-python",
      "name": "python",
      "nbconvert_exporter": "python",
      "pygments_lexer": "ipython3",
      "version": "3.5.2"
    },
    "colab": {
      "name": "programming-1.ipynb",
      "provenance": []
    }
  },
  "nbformat": 4,
  "nbformat_minor": 0
}