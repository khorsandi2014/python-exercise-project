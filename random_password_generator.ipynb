{
  "nbformat": 4,
  "nbformat_minor": 0,
  "metadata": {
    "colab": {
      "name": "random_password_generator.ipynb",
      "provenance": [],
      "authorship_tag": "ABX9TyMdpQxRNF9++JM0pDapNPw6",
      "include_colab_link": true
    },
    "kernelspec": {
      "name": "python3",
      "display_name": "Python 3"
    },
    "language_info": {
      "name": "python"
    }
  },
  "cells": [
    {
      "cell_type": "markdown",
      "metadata": {
        "id": "view-in-github",
        "colab_type": "text"
      },
      "source": [
        "<a href=\"https://colab.research.google.com/github/khorsandi2014/python-exercise-project/blob/main/random_password_generator.ipynb\" target=\"_parent\"><img src=\"https://colab.research.google.com/assets/colab-badge.svg\" alt=\"Open In Colab\"/></a>"
      ]
    },
    {
      "cell_type": "markdown",
      "source": [
        "Create a program that takes the length of the password and generates a random password of the same length.\n",
        "\n",
        "\n",
        "Hint: Create a string of numbers+capital letters+small letters+special characters. Take a random sample from the string of a length given by the user."
      ],
      "metadata": {
        "id": "dyqAfLVTElAL"
      }
    },
    {
      "cell_type": "markdown",
      "source": [
        "THIS SIMPLE PROJECT WAS MADE USING PYTHON LIBRARY FUNCTIONS LIKE string & random.\n",
        "string.ascii_letters\n",
        "\n",
        "The concatenation of the ascii_lowercase and ascii_uppercase constants described below. This value is not locale-dependent.\n",
        "string.ascii_lowercase\n",
        "\n",
        "The lowercase letters abcdefghijklmnopqrstuvwxyz. This value is not locale-dependent and will not change.\n",
        "string.ascii_uppercase\n",
        "\n",
        "The uppercase letters ABCDEFGHIJKLMNOPQRSTUVWXYZ. This value is not locale-dependent and will not change.\n",
        "string.digits\n",
        "\n",
        "The string 0123456789.\n",
        "string.hexdigits\n",
        "\n",
        "The string 0123456789abcdefABCDEF.\n",
        "string.octdigits The string 01234567.\n",
        "\n",
        "string.punctuation\n",
        "\n",
        "String of ASCII characters which are considered punctuation characters in the C locale: !\"#$%&'()*+,-./:;<=>?@[\\]^_{|}~"
      ],
      "metadata": {
        "id": "rOuTwqenQX7F"
      }
    },
    {
      "cell_type": "code",
      "source": [
        ""
      ],
      "metadata": {
        "id": "1GXaNWxBEqKN"
      },
      "execution_count": null,
      "outputs": []
    }
  ]
}