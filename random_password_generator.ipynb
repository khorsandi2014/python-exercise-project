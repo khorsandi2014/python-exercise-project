{
  "nbformat": 4,
  "nbformat_minor": 0,
  "metadata": {
    "colab": {
      "name": "random_password_generator.ipynb",
      "provenance": [],
      "authorship_tag": "ABX9TyNy9zzpig4E5DXn61fdCkNO",
      "include_colab_link": true
    },
    "kernelspec": {
      "name": "python3",
      "display_name": "Python 3"
    },
    "language_info": {
      "name": "python"
    }
  },
  "cells": [
    {
      "cell_type": "markdown",
      "metadata": {
        "id": "view-in-github",
        "colab_type": "text"
      },
      "source": [
        "<a href=\"https://colab.research.google.com/github/khorsandi2014/python-exercise-project/blob/main/random_password_generator.ipynb\" target=\"_parent\"><img src=\"https://colab.research.google.com/assets/colab-badge.svg\" alt=\"Open In Colab\"/></a>"
      ]
    },
    {
      "cell_type": "markdown",
      "source": [
        "Create a program that takes the length of the password and generates a random password of the same length.\n",
        "\n",
        "\n",
        "Hint: Create a string of numbers+capital letters+small letters+special characters. Take a random sample from the string of a length given by the user."
      ],
      "metadata": {
        "id": "dyqAfLVTElAL"
      }
    },
    {
      "cell_type": "code",
      "source": [
        ""
      ],
      "metadata": {
        "id": "1GXaNWxBEqKN"
      },
      "execution_count": null,
      "outputs": []
    }
  ]
}