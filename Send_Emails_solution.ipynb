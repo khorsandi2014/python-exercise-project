{
  "nbformat": 4,
  "nbformat_minor": 0,
  "metadata": {
    "colab": {
      "name": "Send_Emails_solution.ipynb",
      "provenance": [],
      "authorship_tag": "ABX9TyOtF/vWfZFC6xaR8jpKlx35",
      "include_colab_link": true
    },
    "kernelspec": {
      "name": "python3",
      "display_name": "Python 3"
    },
    "language_info": {
      "name": "python"
    }
  },
  "cells": [
    {
      "cell_type": "markdown",
      "metadata": {
        "id": "view-in-github",
        "colab_type": "text"
      },
      "source": [
        "<a href=\"https://colab.research.google.com/github/khorsandi2014/python-exercise-project/blob/main/Send_Emails_solution.ipynb\" target=\"_parent\"><img src=\"https://colab.research.google.com/assets/colab-badge.svg\" alt=\"Open In Colab\"/></a>"
      ]
    },
    {
      "cell_type": "markdown",
      "source": [
        "Send Emails from CSV File\n",
        "\n",
        "\n",
        "This project contains a simple bulk email script which sends the same message to a list of recipients.\n",
        "\n",
        "\n",
        "Dependencies\n",
        "This project only requires the Python standard library (more specifically, the csv, email, and smtplib modules).\n",
        "\n",
        "Running the script\n",
        "\n",
        "\n",
        "The script requires two configuration files:\n",
        "\n",
        "\n",
        "\n",
        "emails.csv should contain the email addresses to send the message to.\n",
        "credentials.txt should contain your SMTP server login credentials, with your user name and your password on sepate lines, with no additional whitespace or other decorations.\n",
        "The project's directory contains two example files which you'll probably both want and need to edit.\n",
        "\n",
        "\n",
        "\n",
        "Development ideas\n",
        "A proper email sender would use Cc: or Bcc: and send the same message just once.\n",
        "\n",
        "Don't play frivolously with this; your email provider, and/or the recipient's, may have automatic filters which quickly block anyone who sends multiple identical messages.\n",
        "\n",
        "The script simply hardcodes the conventions for Gmail.com. Other providers may use a different port number and authentication regime.\n",
        "\n",
        "\n"
      ],
      "metadata": {
        "id": "eiPrIkM0oRvh"
      }
    },
    {
      "cell_type": "code",
      "execution_count": null,
      "metadata": {
        "id": "txF2asweoPtO"
      },
      "outputs": [],
      "source": [
        "import csv\n",
        "from email.message import EmailMessage\n",
        "import smtplib\n",
        "\n",
        "\n",
        "def get_credentials(filepath):\n",
        "    with open(\"credentials.txt\", \"r\") as f:\n",
        "        email_address = f.readline()\n",
        "        email_pass = f.readline()\n",
        "    return (email_address, email_pass)\n",
        "\n",
        "\n",
        "def login(email_address, email_pass, s):\n",
        "    s.ehlo()\n",
        "    # start TLS for security\n",
        "    s.starttls()\n",
        "    s.ehlo()\n",
        "    # Authentication\n",
        "    s.login(email_address, email_pass)\n",
        "    print(\"login\")\n",
        "\n",
        "\n",
        "def send_mail():\n",
        "    s = smtplib.SMTP(\"smtp.gmail.com\", 587)\n",
        "    email_address, email_pass = get_credentials(\"./credentials.txt\")\n",
        "    login(email_address, email_pass, s)\n",
        "\n",
        "    # message to be sent\n",
        "    subject = \"Welcome to Python\"\n",
        "    body = \"\"\"Python is an interpreted, high-level,\n",
        "    general-purpose programming language.\\n\n",
        "    Created by Guido van Rossum and first released in 1991,\n",
        "    Python's design philosophy emphasizes code readability\\n\n",
        "    with its notable use of significant whitespace\"\"\"\n",
        "\n",
        "    message = EmailMessage()\n",
        "    message.set_content(body)\n",
        "    message['Subject'] = subject\n",
        "\n",
        "    with open(\"emails.csv\", newline=\"\") as csvfile:\n",
        "        spamreader = csv.reader(csvfile, delimiter=\" \", quotechar=\"|\")\n",
        "        for email in spamreader:\n",
        "            s.send_message(email_address, email[0], message)\n",
        "            print(\"Send To \" + email[0])\n",
        "\n",
        "    # terminating the session\n",
        "    s.quit()\n",
        "    print(\"sent\")\n",
        "\n",
        "\n",
        "if __name__ == \"__main__\":\n",
        "    send_mail()"
      ]
    }
  ]
}