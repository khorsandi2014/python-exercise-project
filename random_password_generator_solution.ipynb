{
  "nbformat": 4,
  "nbformat_minor": 0,
  "metadata": {
    "colab": {
      "name": "random_password_generator_solution.ipynb",
      "provenance": [],
      "authorship_tag": "ABX9TyOCow1I0YqpP1UJT0aqtZ9u",
      "include_colab_link": true
    },
    "kernelspec": {
      "name": "python3",
      "display_name": "Python 3"
    },
    "language_info": {
      "name": "python"
    }
  },
  "cells": [
    {
      "cell_type": "markdown",
      "metadata": {
        "id": "view-in-github",
        "colab_type": "text"
      },
      "source": [
        "<a href=\"https://colab.research.google.com/github/khorsandi2014/python-exercise-project/blob/main/random_password_generator_solution.ipynb\" target=\"_parent\"><img src=\"https://colab.research.google.com/assets/colab-badge.svg\" alt=\"Open In Colab\"/></a>"
      ]
    },
    {
      "cell_type": "markdown",
      "source": [
        "Create a program that takes the length of the password and generates a random password of the same length.\n",
        "\n",
        "\n",
        "Hint: Create a string of numbers+capital letters+small letters+special characters. Take a random sample from the string of a length given by the user."
      ],
      "metadata": {
        "id": "dyqAfLVTElAL"
      }
    },
    {
      "cell_type": "markdown",
      "source": [
        "THIS SIMPLE PROJECT WAS MADE USING PYTHON LIBRARY FUNCTIONS LIKE string & random.\n",
        "string.ascii_letters\n",
        "\n",
        "The concatenation of the ascii_lowercase and ascii_uppercase constants described below. This value is not locale-dependent.\n",
        "string.ascii_lowercase\n",
        "\n",
        "The lowercase letters abcdefghijklmnopqrstuvwxyz. This value is not locale-dependent and will not change.\n",
        "string.ascii_uppercase\n",
        "\n",
        "The uppercase letters ABCDEFGHIJKLMNOPQRSTUVWXYZ. This value is not locale-dependent and will not change.\n",
        "string.digits\n",
        "\n",
        "The string 0123456789.\n",
        "string.hexdigits\n",
        "\n",
        "The string 0123456789abcdefABCDEF.\n",
        "string.octdigits The string 01234567.\n",
        "\n",
        "string.punctuation\n",
        "\n",
        "String of ASCII characters which are considered punctuation characters in the C locale: !\"#$%&'()*+,-./:;<=>?@[\\]^_{|}~"
      ],
      "metadata": {
        "id": "rOuTwqenQX7F"
      }
    },
    {
      "cell_type": "code",
      "source": [
        "# Frist solution\n",
        "import random\n",
        "import string\n",
        "\n",
        "total = string.ascii_letters + string.digits + string.punctuation\n",
        "\n",
        "length = 16\n",
        "\n",
        "password = \"\".join(random.sample(total, length))\n",
        "\n",
        "print(password)"
      ],
      "metadata": {
        "id": "1GXaNWxBEqKN"
      },
      "execution_count": null,
      "outputs": []
    },
    {
      "cell_type": "code",
      "source": [
        "# Second solution\n",
        "import random\n",
        "import math\n",
        "\n",
        "alpha = \"abcdefghijklmnopqrstuvwxyz\"\n",
        "num = \"0123456789\"\n",
        "special = \"@#$%&*\"\n",
        "\n",
        "# pass_len=random.randint(8,13)  #without User INput\n",
        "pass_len = int(input(\"Enter Password Length\"))\n",
        "\n",
        "# length of password by 50-30-20 formula\n",
        "alpha_len = pass_len//2\n",
        "num_len = math.ceil(pass_len*30/100)\n",
        "special_len = pass_len-(alpha_len+num_len)\n",
        "\n",
        "\n",
        "password = []\n",
        "\n",
        "\n",
        "def generate_pass(length, array, is_alpha=False):\n",
        "    for i in range(length):\n",
        "        index = random.randint(0, len(array) - 1)\n",
        "        character = array[index]\n",
        "        if is_alpha:\n",
        "            case = random.randint(0, 1)\n",
        "            if case == 1:\n",
        "                character = character.upper()\n",
        "        password.append(character)\n",
        "\n",
        "\n",
        "# alpha password\n",
        "generate_pass(alpha_len, alpha, True)\n",
        "# numeric password\n",
        "generate_pass(num_len, num)\n",
        "# special Character password\n",
        "generate_pass(special_len, special)\n",
        "# suffle the generated password list\n",
        "random.shuffle(password)\n",
        "# convert List To string\n",
        "gen_password = \"\"\n",
        "for i in password:\n",
        "    gen_password = gen_password + str(i)\n",
        "print(gen_password)"
      ],
      "metadata": {
        "id": "wl_pFaahQxgG"
      },
      "execution_count": null,
      "outputs": []
    },
    {
      "cell_type": "markdown",
      "source": [
        ""
      ],
      "metadata": {
        "id": "EIoHb2SDQ6VA"
      }
    }
  ]
}