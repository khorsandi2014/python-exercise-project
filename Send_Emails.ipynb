{
  "nbformat": 4,
  "nbformat_minor": 0,
  "metadata": {
    "colab": {
      "name": "Send_Emails.ipynb",
      "provenance": [],
      "authorship_tag": "ABX9TyOupAsQP94FqOJ4pNfPwqs0",
      "include_colab_link": true
    },
    "kernelspec": {
      "name": "python3",
      "display_name": "Python 3"
    },
    "language_info": {
      "name": "python"
    }
  },
  "cells": [
    {
      "cell_type": "markdown",
      "metadata": {
        "id": "view-in-github",
        "colab_type": "text"
      },
      "source": [
        "<a href=\"https://colab.research.google.com/github/khorsandi2014/python-exercise-project/blob/main/Send_Emails.ipynb\" target=\"_parent\"><img src=\"https://colab.research.google.com/assets/colab-badge.svg\" alt=\"Open In Colab\"/></a>"
      ]
    },
    {
      "cell_type": "code",
      "execution_count": null,
      "metadata": {
        "id": "NV2XcbhlqjP8"
      },
      "outputs": [],
      "source": [
        ""
      ]
    },
    {
      "cell_type": "markdown",
      "source": [
        "Send Emails from CSV File\n",
        "\n",
        "\n",
        "This project contains a simple bulk email script which sends the same message to a list of recipients.\n",
        "\n",
        "\n",
        "Dependencies\n",
        "This project only requires the Python standard library (more specifically, the csv, email, and smtplib modules).\n",
        "\n",
        "Running the script\n",
        "\n",
        "\n",
        "The script requires two configuration files:\n",
        "\n",
        "\n",
        "\n",
        "emails.csv should contain the email addresses to send the message to.\n",
        "credentials.txt should contain your SMTP server login credentials, with your user name and your password on sepate lines, with no additional whitespace or other decorations.\n",
        "The project's directory contains two example files which you'll probably both want and need to edit.\n",
        "\n",
        "\n",
        "\n",
        "Development ideas\n",
        "A proper email sender would use Cc: or Bcc: and send the same message just once.\n",
        "\n",
        "Don't play frivolously with this; your email provider, and/or the recipient's, may have automatic filters which quickly block anyone who sends multiple identical messages.\n",
        "\n",
        "The script simply hardcodes the conventions for Gmail.com. Other providers may use a different port number and authentication regime.\n",
        "\n",
        "\n"
      ],
      "metadata": {
        "id": "jEn4BjkqqlCm"
      }
    },
    {
      "cell_type": "code",
      "source": [
        ""
      ],
      "metadata": {
        "id": "t2tVhwmUqloL"
      },
      "execution_count": null,
      "outputs": []
    }
  ]
}