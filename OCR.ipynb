{
  "nbformat": 4,
  "nbformat_minor": 0,
  "metadata": {
    "colab": {
      "name": "OCR.ipynb",
      "provenance": [],
      "authorship_tag": "ABX9TyMimD0yr9eRptws4mdOl2Qc",
      "include_colab_link": true
    },
    "kernelspec": {
      "name": "python3",
      "display_name": "Python 3"
    },
    "language_info": {
      "name": "python"
    }
  },
  "cells": [
    {
      "cell_type": "markdown",
      "metadata": {
        "id": "view-in-github",
        "colab_type": "text"
      },
      "source": [
        "<a href=\"https://colab.research.google.com/github/khorsandi2014/python-exercise-project/blob/main/OCR.ipynb\" target=\"_parent\"><img src=\"https://colab.research.google.com/assets/colab-badge.svg\" alt=\"Open In Colab\"/></a>"
      ]
    },
    {
      "cell_type": "code",
      "execution_count": null,
      "metadata": {
        "id": "8UFyY9HH240T"
      },
      "outputs": [],
      "source": [
        ""
      ]
    },
    {
      "cell_type": "markdown",
      "source": [
        "## Text Detection and Extraction using OpenCV and OCR\n",
        "\n",
        "OpenCV (Open source computer vision) is a library of programming functions mainly aimed at real-time computer vision. OpenCV in python helps to process an image and apply various functions like resizing image, pixel manipulations, object detection, etc. In this article, we will learn how to use contours to detect the text in an image and save it to a text file.\n",
        "Required Installations:\n",
        "\n",
        "\n",
        "pip install opencv-python\n",
        "pip install pytesseract\n",
        "\n",
        "OpenCV package is used to read an image and perform certain image processing techniques. Python-tesseract is a wrapper for Google’s Tesseract-OCR Engine which is used to recognize text from images.\n",
        "Download the tesseract executable file from this link.\n",
        "Approach: \n",
        "After the necessary imports, a sample image is read using the imread function of opencv.\n",
        " \n",
        "\n"
      ],
      "metadata": {
        "id": "ejT8BnoA25gQ"
      }
    },
    {
      "cell_type": "markdown",
      "source": [
        "### Applying image processing for the image:\n",
        "\n",
        "The colorspace of the image is first changed and stored in a variable. For color conversion we use the function cv2.cvtColor(input_image, flag). The second parameter flag determines the type of conversion. We can chose among cv2.COLOR_BGR2GRAY and cv2.COLOR_BGR2HSV. cv2.COLOR_BGR2GRAY helps us to convert an RGB image to gray scale image and cv2.COLOR_BGR2HSV is used to convert an RGB image to HSV (Hue, Saturation, Value) color-space image. Here, we use cv2.COLOR_BGR2GRAY. A threshold is applied to the converted image using cv2.threshold function. \n",
        "There are 3 types of thresholding: \n",
        " \n",
        "\n",
        "Simple Thresholding\n",
        "Adaptive Thresholding\n",
        "Otsu’s Binarization\n",
        "For more information on thresholding, refer Thresholding techniques using OpenCV.\n",
        "cv2.threshold() has 4 parameters, first parameter being the color-space changed image, followed by the minimum threshold value, the maximum threshold value and the type of thresholding that needs to be applied.\n",
        " \n",
        "\n",
        "To get a rectangular structure:\n",
        "cv2.getStructuringElement() is used to define a structural element like elliptical, circular, rectangular etc. Here, we use the rectangular structural element (cv2.MORPH_RECT). cv2.getStructuringElement takes an extra size of the kernel parameter. A bigger kernel would make group larger blocks of texts together. After choosing the correct kernel, dilation is applied to the image with cv2.dilate function. Dilation makes the groups of text to be detected more accurately since it dilates (expands) a text block.\n"
      ],
      "metadata": {
        "id": "26KuDVl53V7N"
      }
    },
    {
      "cell_type": "markdown",
      "source": [
        "### Finding Contours:\n",
        "\n",
        "cv2.findContours() is used to find contours in the dilated image. There are three arguments in cv.findContours(): the source image, the contour retrieval mode and the contour approximation method. \n",
        "This function returns contours and hierarchy. Contours is a python list of all the contours in the image. Each contour is a Numpy array of (x, y) coordinates of boundary points in the object. Contours are typically used to find a white object from a black background. All the above image processing techniques are applied so that the Contours can detect the boundary edges of the blocks of text of the image. A text file is opened in write mode and flushed. This text file is opened to save the text from the output of the OCR."
      ],
      "metadata": {
        "id": "K7ktMeMh3bK-"
      }
    },
    {
      "cell_type": "markdown",
      "source": [
        "### Applying OCR:\n",
        "\n",
        "Loop through each contour and take the x and y coordinates and the width and height using the function cv2.boundingRect(). Then draw a rectangle in the image using the function cv2.rectangle() with the help of obtained x and y coordinates and the width and height. There are 5 parameters in the cv2.rectangle(), the first parameter specifies the input image, followed by the x and y coordinates (starting coordinates of the rectangle), the ending coordinates of the rectangle which is (x+w, y+h), the boundary color for the rectangle in RGB value and the size of the boundary. Now crop the rectangular region and then pass it to the tesseract to extract the text from the image. Then we open the created text file in append mode to append the obtained text and close the file.\n",
        "Sample image used for the code: "
      ],
      "metadata": {
        "id": "WuEpn70Q3trk"
      }
    },
    {
      "cell_type": "markdown",
      "source": [
        "![alt text](sample4.jpeg \"Text Image\")"
      ],
      "metadata": {
        "id": "OWzPRlcc4GCQ"
      }
    },
    {
      "cell_type": "code",
      "source": [
        ""
      ],
      "metadata": {
        "id": "Fq0g9o_73Vb2"
      },
      "execution_count": null,
      "outputs": []
    }
  ]
}