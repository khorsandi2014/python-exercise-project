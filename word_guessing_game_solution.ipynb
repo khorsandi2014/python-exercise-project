{
  "nbformat": 4,
  "nbformat_minor": 0,
  "metadata": {
    "colab": {
      "name": "word_guessing_game_solution.ipynb",
      "provenance": [],
      "authorship_tag": "ABX9TyNYCt9r8tzn6UasvL1gdFg4",
      "include_colab_link": true
    },
    "kernelspec": {
      "name": "python3",
      "display_name": "Python 3"
    },
    "language_info": {
      "name": "python"
    }
  },
  "cells": [
    {
      "cell_type": "markdown",
      "metadata": {
        "id": "view-in-github",
        "colab_type": "text"
      },
      "source": [
        "<a href=\"https://colab.research.google.com/github/khorsandi2014/python-exercise-project/blob/main/word_guessing_game_solution.ipynb\" target=\"_parent\"><img src=\"https://colab.research.google.com/assets/colab-badge.svg\" alt=\"Open In Colab\"/></a>"
      ]
    },
    {
      "cell_type": "markdown",
      "source": [
        "Random module : \n",
        "Sometimes we want the computer to pick a random number in a given range, pick a random element from a list, pick a random card from a deck, flip a coin, etc. The random module provides access to functions that support these types of operations. One such operation is random.choice() method (returns a random item from a list, tuple, or string.) that we are going to use in order to select one random word from a list of words that we’ve created."
      ],
      "metadata": {
        "id": "pQy3gJHFOqsq"
      }
    },
    {
      "cell_type": "markdown",
      "source": [
        "In this game, there is a list of words present, out of which our interpreter will choose 1 random word. The user first has to input their names and then, will be asked to guess any alphabet. If the random word contains that alphabet, it will be shown as the output(with correct placement) else the program will ask you to guess another alphabet. User will be given 12 turns(can be changed accordingly) to guess the complete word.\n"
      ],
      "metadata": {
        "id": "bg_pOrWaO4un"
      }
    },
    {
      "cell_type": "code",
      "source": [
        "import random\n",
        "# library that we use in order to choose\n",
        "# on random words from a list of words\n",
        " \n",
        "name = input(\"What is your name? \")\n",
        "# Here the user is asked to enter the name first\n",
        " \n",
        "print(\"Good Luck ! \", name)\n",
        " \n",
        "words = ['rainbow', 'computer', 'science', 'programming',\n",
        "         'python', 'mathematics', 'player', 'condition',\n",
        "         'reverse', 'water', 'board', 'geeks']\n",
        " \n",
        "# Function will choose one random\n",
        "# word from this list of words\n",
        "word = random.choice(words)\n",
        " \n",
        " \n",
        "print(\"Guess the characters\")\n",
        " \n",
        "guesses = ''\n",
        " \n",
        "# any number of turns can be used here\n",
        "turns = 12\n",
        " \n",
        " \n",
        "while turns > 0:\n",
        "     \n",
        "    # counts the number of times a user fails\n",
        "    failed = 0\n",
        "     \n",
        "    # all characters from the input\n",
        "    # word taking one at a time.\n",
        "    for char in word:\n",
        "         \n",
        "        # comparing that character with\n",
        "        # the character in guesses\n",
        "        if char in guesses:\n",
        "            print(char)\n",
        "             \n",
        "        else:\n",
        "            print(\"_\")\n",
        "             \n",
        "            # for every failure 1 will be\n",
        "            # incremented in failure\n",
        "            failed += 1\n",
        "             \n",
        " \n",
        "    if failed == 0:\n",
        "        # user will win the game if failure is 0\n",
        "        # and 'You Win' will be given as output\n",
        "        print(\"You Win\")\n",
        "         \n",
        "        # this print the correct word\n",
        "        print(\"The word is: \", word)\n",
        "        break\n",
        "     \n",
        "    # if user has input the wrong alphabet then\n",
        "    # it will ask user to enter another alphabet\n",
        "    guess = input(\"guess a character:\")\n",
        "     \n",
        "    # every input character will be stored in guesses\n",
        "    guesses += guess\n",
        "     \n",
        "    # check input with the character in word\n",
        "    if guess not in word:\n",
        "         \n",
        "        turns -= 1\n",
        "         \n",
        "        # if the character doesn’t match the word\n",
        "        # then “Wrong” will be given as output\n",
        "        print(\"Wrong\")\n",
        "         \n",
        "        # this will print the number of\n",
        "        # turns left for the user\n",
        "        print(\"You have\", + turns, 'more guesses')\n",
        "         \n",
        "         \n",
        "        if turns == 0:\n",
        "            print(\"You Loose\")"
      ],
      "metadata": {
        "id": "ktyTjz9JOrMO"
      },
      "execution_count": null,
      "outputs": []
    },
    {
      "cell_type": "code",
      "source": [
        ""
      ],
      "metadata": {
        "id": "gypwlWP9PKOq"
      },
      "execution_count": null,
      "outputs": []
    }
  ]
}